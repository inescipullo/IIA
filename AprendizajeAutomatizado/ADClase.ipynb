{
  "nbformat": 4,
  "nbformat_minor": 0,
  "metadata": {
    "colab": {
      "name": "Untitled0.ipynb",
      "provenance": []
    },
    "kernelspec": {
      "name": "python3",
      "display_name": "Python 3"
    },
    "language_info": {
      "name": "python"
    }
  },
  "cells": [
    {
      "cell_type": "markdown",
      "source": [
        "Preparando el dataset"
      ],
      "metadata": {
        "id": "ANch3bYRCOvu"
      }
    },
    {
      "cell_type": "code",
      "source": [
        "from sklearn.datasets import load_breast_cancer\n",
        " \n",
        "dataset = load_breast_cancer()\n",
        "\n",
        "# Imprimo informacion para analizar el conjunto de datos\n",
        " \n",
        "print(\"Los atributos de entrada son: {}.\".format(dataset.feature_names))\n",
        "print(\"Las clases que intentaremos predecir son: {}.\".format(dataset.target_names))\n",
        "print(\"El formato de la matriz de datos es: {}.\".format(dataset.data.shape))\n",
        "print(\"El formato de la matriz de eitquetas es: {}.\".format(dataset.target.shape))"
      ],
      "metadata": {
        "colab": {
          "base_uri": "https://localhost:8080/"
        },
        "id": "9alYIT5TCWvk",
        "outputId": "ef0e92d6-09e1-4f69-945f-5b67647a9c53"
      },
      "execution_count": 1,
      "outputs": [
        {
          "output_type": "stream",
          "name": "stdout",
          "text": [
            "Los atributos de entrada son: ['mean radius' 'mean texture' 'mean perimeter' 'mean area'\n",
            " 'mean smoothness' 'mean compactness' 'mean concavity'\n",
            " 'mean concave points' 'mean symmetry' 'mean fractal dimension'\n",
            " 'radius error' 'texture error' 'perimeter error' 'area error'\n",
            " 'smoothness error' 'compactness error' 'concavity error'\n",
            " 'concave points error' 'symmetry error' 'fractal dimension error'\n",
            " 'worst radius' 'worst texture' 'worst perimeter' 'worst area'\n",
            " 'worst smoothness' 'worst compactness' 'worst concavity'\n",
            " 'worst concave points' 'worst symmetry' 'worst fractal dimension'].\n",
            "Las clases que intentaremos predecir son: ['malignant' 'benign'].\n",
            "El formato de la matriz de datos es: (569, 30).\n",
            "El formato de la matriz de eitquetas es: (569,).\n"
          ]
        }
      ]
    },
    {
      "cell_type": "markdown",
      "source": [
        "Conjunto de testeo y entrenamiento"
      ],
      "metadata": {
        "id": "KDgDUvtPDNfW"
      }
    },
    {
      "cell_type": "code",
      "source": [
        "# Divido los datos en conjunto de entrenamiento y evaluacion\n",
        "from sklearn.model_selection import train_test_split\n",
        " \n",
        "data_train, data_test, target_train, target_test = train_test_split(dataset.data,\n",
        "                                                                    dataset.target,\n",
        "                                                                    test_size = 0.2)\n",
        " \n",
        "print(\"Ahora, el conjunto de entrenamiento tiene {} muestras y el de evaluación tiene {} muestras.\".format(data_train.shape[0], data_test.shape[0]))"
      ],
      "metadata": {
        "colab": {
          "base_uri": "https://localhost:8080/"
        },
        "id": "Rke8Ul2XDV4j",
        "outputId": "cec6b730-8746-4591-c688-ad24122a2c98"
      },
      "execution_count": 12,
      "outputs": [
        {
          "output_type": "stream",
          "name": "stdout",
          "text": [
            "Ahora, el conjunto de entrenamiento tiene 341 muestras y el de evaluación tiene 228 muestras.\n"
          ]
        }
      ]
    },
    {
      "cell_type": "markdown",
      "source": [
        "Arbol de decision"
      ],
      "metadata": {
        "id": "6H7MOQQzDiOs"
      }
    },
    {
      "cell_type": "code",
      "source": [
        "# Definicion de parametros para el entrenamiento del arbol de decision\n",
        "criterion = 'entropy'\n",
        "max_depth = None\n",
        "min_samples_split = 2\n",
        "min_samples_leaf = 1\n",
        "max_leaf_nodes = None"
      ],
      "metadata": {
        "id": "hs55HeWuDjxd"
      },
      "execution_count": 30,
      "outputs": []
    },
    {
      "cell_type": "code",
      "source": [
        "# Creamos el modelo y lo entrenamos\n",
        "from sklearn.tree import DecisionTreeClassifier\n",
        " \n",
        "tree_model = DecisionTreeClassifier(criterion = criterion,\n",
        "                                    splitter = \"best\",\n",
        "                                    max_depth = max_depth,\n",
        "                                    min_samples_leaf = min_samples_leaf,\n",
        "                                    min_samples_split = min_samples_split,\n",
        "                                    max_leaf_nodes = max_leaf_nodes)\n",
        " \n",
        "# Utilizamos el conjunto de datos de entrenamiento\n",
        " \n",
        "tree_model.fit(data_train, target_train)"
      ],
      "metadata": {
        "colab": {
          "base_uri": "https://localhost:8080/"
        },
        "id": "Io9YgJoBDma0",
        "outputId": "f7e7b199-06bd-4c1c-ea63-78a92216abe1"
      },
      "execution_count": 31,
      "outputs": [
        {
          "output_type": "execute_result",
          "data": {
            "text/plain": [
              "DecisionTreeClassifier(criterion='entropy')"
            ]
          },
          "metadata": {},
          "execution_count": 31
        }
      ]
    },
    {
      "cell_type": "markdown",
      "source": [
        "Graficando el arbol"
      ],
      "metadata": {
        "id": "6EGNkj3QDxYm"
      }
    },
    {
      "cell_type": "code",
      "source": [
        "import graphviz\n",
        "from sklearn import tree\n",
        " \n",
        "# Funcion para generar en gráfico del arbol.\n",
        " \n",
        "# NOTA: Para reutilizar esta funcion en otro Notebook hay que importar los mismos paquetes que se\n",
        "# importan en esta celda.\n",
        "def graph_tree(tree_model, feature_names=None, class_names=None):\n",
        " \n",
        "  dot_data = tree.export_graphviz(tree_model, out_file=None,\n",
        "                                  feature_names=feature_names,\n",
        "                                  class_names=class_names,\n",
        "                                  filled=True,\n",
        "                                  rounded=True,\n",
        "                                  special_characters=True)  \n",
        " \n",
        "  graph = graphviz.Source(dot_data)\n",
        "  return graph\n",
        "\n",
        "graph = graph_tree(tree_model, dataset.feature_names, dataset.target_names)\n",
        "graph"
      ],
      "metadata": {
        "colab": {
          "base_uri": "https://localhost:8080/",
          "height": 1000
        },
        "id": "G6Gtxr2sDzd0",
        "outputId": "6eaebfd6-b430-4477-bd25-4c49039c651f"
      },
      "execution_count": 32,
      "outputs": [
        {
          "output_type": "execute_result",
          "data": {
            "text/plain": [
              "<graphviz.files.Source at 0x7f3d478b1350>"
            ],
            "image/svg+xml": "<?xml version=\"1.0\" encoding=\"UTF-8\" standalone=\"no\"?>\n<!DOCTYPE svg PUBLIC \"-//W3C//DTD SVG 1.1//EN\"\n \"http://www.w3.org/Graphics/SVG/1.1/DTD/svg11.dtd\">\n<!-- Generated by graphviz version 2.40.1 (20161225.0304)\n -->\n<!-- Title: Tree Pages: 1 -->\n<svg width=\"1066pt\" height=\"790pt\"\n viewBox=\"0.00 0.00 1065.50 790.00\" xmlns=\"http://www.w3.org/2000/svg\" xmlns:xlink=\"http://www.w3.org/1999/xlink\">\n<g id=\"graph0\" class=\"graph\" transform=\"scale(1 1) rotate(0) translate(4 786)\">\n<title>Tree</title>\n<polygon fill=\"#ffffff\" stroke=\"transparent\" points=\"-4,4 -4,-786 1061.5,-786 1061.5,4 -4,4\"/>\n<!-- 0 -->\n<g id=\"node1\" class=\"node\">\n<title>0</title>\n<path fill=\"#b1d9f5\" stroke=\"#000000\" d=\"M801.5,-782C801.5,-782 628.5,-782 628.5,-782 622.5,-782 616.5,-776 616.5,-770 616.5,-770 616.5,-711 616.5,-711 616.5,-705 622.5,-699 628.5,-699 628.5,-699 801.5,-699 801.5,-699 807.5,-699 813.5,-705 813.5,-711 813.5,-711 813.5,-770 813.5,-770 813.5,-776 807.5,-782 801.5,-782\"/>\n<text text-anchor=\"start\" x=\"624.5\" y=\"-766.8\" font-family=\"Helvetica,sans-Serif\" font-size=\"14.00\" fill=\"#000000\">worst concave points ≤ 0.13</text>\n<text text-anchor=\"start\" x=\"664\" y=\"-751.8\" font-family=\"Helvetica,sans-Serif\" font-size=\"14.00\" fill=\"#000000\">entropy = 0.957</text>\n<text text-anchor=\"start\" x=\"667\" y=\"-736.8\" font-family=\"Helvetica,sans-Serif\" font-size=\"14.00\" fill=\"#000000\">samples = 341</text>\n<text text-anchor=\"start\" x=\"657\" y=\"-721.8\" font-family=\"Helvetica,sans-Serif\" font-size=\"14.00\" fill=\"#000000\">value = [129, 212]</text>\n<text text-anchor=\"start\" x=\"668\" y=\"-706.8\" font-family=\"Helvetica,sans-Serif\" font-size=\"14.00\" fill=\"#000000\">class = benign</text>\n</g>\n<!-- 1 -->\n<g id=\"node2\" class=\"node\">\n<title>1</title>\n<path fill=\"#46a3e7\" stroke=\"#000000\" d=\"M592,-663C592,-663 472,-663 472,-663 466,-663 460,-657 460,-651 460,-651 460,-592 460,-592 460,-586 466,-580 472,-580 472,-580 592,-580 592,-580 598,-580 604,-586 604,-592 604,-592 604,-651 604,-651 604,-657 598,-663 592,-663\"/>\n<text text-anchor=\"start\" x=\"468\" y=\"-647.8\" font-family=\"Helvetica,sans-Serif\" font-size=\"14.00\" fill=\"#000000\">worst area ≤ 874.85</text>\n<text text-anchor=\"start\" x=\"481\" y=\"-632.8\" font-family=\"Helvetica,sans-Serif\" font-size=\"14.00\" fill=\"#000000\">entropy = 0.335</text>\n<text text-anchor=\"start\" x=\"484\" y=\"-617.8\" font-family=\"Helvetica,sans-Serif\" font-size=\"14.00\" fill=\"#000000\">samples = 210</text>\n<text text-anchor=\"start\" x=\"478\" y=\"-602.8\" font-family=\"Helvetica,sans-Serif\" font-size=\"14.00\" fill=\"#000000\">value = [13, 197]</text>\n<text text-anchor=\"start\" x=\"485\" y=\"-587.8\" font-family=\"Helvetica,sans-Serif\" font-size=\"14.00\" fill=\"#000000\">class = benign</text>\n</g>\n<!-- 0&#45;&gt;1 -->\n<g id=\"edge1\" class=\"edge\">\n<title>0&#45;&gt;1</title>\n<path fill=\"none\" stroke=\"#000000\" d=\"M650.9955,-698.8796C635.9505,-689.0962 619.8121,-678.6019 604.4267,-668.5971\"/>\n<polygon fill=\"#000000\" stroke=\"#000000\" points=\"606.2598,-665.6143 595.9684,-663.0969 602.4437,-671.4827 606.2598,-665.6143\"/>\n<text text-anchor=\"middle\" x=\"601.1513\" y=\"-683.8538\" font-family=\"Helvetica,sans-Serif\" font-size=\"14.00\" fill=\"#000000\">True</text>\n</g>\n<!-- 14 -->\n<g id=\"node15\" class=\"node\">\n<title>14</title>\n<path fill=\"#e89153\" stroke=\"#000000\" d=\"M884,-663C884,-663 732,-663 732,-663 726,-663 720,-657 720,-651 720,-651 720,-592 720,-592 720,-586 726,-580 732,-580 732,-580 884,-580 884,-580 890,-580 896,-586 896,-592 896,-592 896,-651 896,-651 896,-657 890,-663 884,-663\"/>\n<text text-anchor=\"start\" x=\"728\" y=\"-647.8\" font-family=\"Helvetica,sans-Serif\" font-size=\"14.00\" fill=\"#000000\">worst perimeter ≤ 114.45</text>\n<text text-anchor=\"start\" x=\"757\" y=\"-632.8\" font-family=\"Helvetica,sans-Serif\" font-size=\"14.00\" fill=\"#000000\">entropy = 0.513</text>\n<text text-anchor=\"start\" x=\"760\" y=\"-617.8\" font-family=\"Helvetica,sans-Serif\" font-size=\"14.00\" fill=\"#000000\">samples = 131</text>\n<text text-anchor=\"start\" x=\"754\" y=\"-602.8\" font-family=\"Helvetica,sans-Serif\" font-size=\"14.00\" fill=\"#000000\">value = [116, 15]</text>\n<text text-anchor=\"start\" x=\"751.5\" y=\"-587.8\" font-family=\"Helvetica,sans-Serif\" font-size=\"14.00\" fill=\"#000000\">class = malignant</text>\n</g>\n<!-- 0&#45;&gt;14 -->\n<g id=\"edge14\" class=\"edge\">\n<title>0&#45;&gt;14</title>\n<path fill=\"none\" stroke=\"#000000\" d=\"M747.5269,-698.8796C754.4951,-689.9633 761.9247,-680.4565 769.1056,-671.268\"/>\n<polygon fill=\"#000000\" stroke=\"#000000\" points=\"771.9343,-673.3326 775.3343,-663.2981 766.4188,-669.0221 771.9343,-673.3326\"/>\n<text text-anchor=\"middle\" x=\"778.3775\" y=\"-684.4122\" font-family=\"Helvetica,sans-Serif\" font-size=\"14.00\" fill=\"#000000\">False</text>\n</g>\n<!-- 2 -->\n<g id=\"node3\" class=\"node\">\n<title>2</title>\n<path fill=\"#3b9ee5\" stroke=\"#000000\" d=\"M320.5,-544C320.5,-544 185.5,-544 185.5,-544 179.5,-544 173.5,-538 173.5,-532 173.5,-532 173.5,-473 173.5,-473 173.5,-467 179.5,-461 185.5,-461 185.5,-461 320.5,-461 320.5,-461 326.5,-461 332.5,-467 332.5,-473 332.5,-473 332.5,-532 332.5,-532 332.5,-538 326.5,-544 320.5,-544\"/>\n<text text-anchor=\"start\" x=\"181.5\" y=\"-528.8\" font-family=\"Helvetica,sans-Serif\" font-size=\"14.00\" fill=\"#000000\">worst texture ≤ 30.145</text>\n<text text-anchor=\"start\" x=\"202\" y=\"-513.8\" font-family=\"Helvetica,sans-Serif\" font-size=\"14.00\" fill=\"#000000\">entropy = 0.082</text>\n<text text-anchor=\"start\" x=\"205\" y=\"-498.8\" font-family=\"Helvetica,sans-Serif\" font-size=\"14.00\" fill=\"#000000\">samples = 195</text>\n<text text-anchor=\"start\" x=\"203\" y=\"-483.8\" font-family=\"Helvetica,sans-Serif\" font-size=\"14.00\" fill=\"#000000\">value = [2, 193]</text>\n<text text-anchor=\"start\" x=\"206\" y=\"-468.8\" font-family=\"Helvetica,sans-Serif\" font-size=\"14.00\" fill=\"#000000\">class = benign</text>\n</g>\n<!-- 1&#45;&gt;2 -->\n<g id=\"edge2\" class=\"edge\">\n<title>1&#45;&gt;2</title>\n<path fill=\"none\" stroke=\"#000000\" d=\"M459.7877,-590.6998C423.9163,-575.3998 380.2391,-556.7704 342.2849,-540.5821\"/>\n<polygon fill=\"#000000\" stroke=\"#000000\" points=\"343.3385,-537.2265 332.7671,-536.5225 340.5922,-543.6652 343.3385,-537.2265\"/>\n</g>\n<!-- 9 -->\n<g id=\"node10\" class=\"node\">\n<title>9</title>\n<path fill=\"#eeaf81\" stroke=\"#000000\" d=\"M604,-544C604,-544 460,-544 460,-544 454,-544 448,-538 448,-532 448,-532 448,-473 448,-473 448,-467 454,-461 460,-461 460,-461 604,-461 604,-461 610,-461 616,-467 616,-473 616,-473 616,-532 616,-532 616,-538 610,-544 604,-544\"/>\n<text text-anchor=\"start\" x=\"456\" y=\"-528.8\" font-family=\"Helvetica,sans-Serif\" font-size=\"14.00\" fill=\"#000000\">worst concavity ≤ 0.232</text>\n<text text-anchor=\"start\" x=\"481\" y=\"-513.8\" font-family=\"Helvetica,sans-Serif\" font-size=\"14.00\" fill=\"#000000\">entropy = 0.837</text>\n<text text-anchor=\"start\" x=\"488\" y=\"-498.8\" font-family=\"Helvetica,sans-Serif\" font-size=\"14.00\" fill=\"#000000\">samples = 15</text>\n<text text-anchor=\"start\" x=\"486.5\" y=\"-483.8\" font-family=\"Helvetica,sans-Serif\" font-size=\"14.00\" fill=\"#000000\">value = [11, 4]</text>\n<text text-anchor=\"start\" x=\"475.5\" y=\"-468.8\" font-family=\"Helvetica,sans-Serif\" font-size=\"14.00\" fill=\"#000000\">class = malignant</text>\n</g>\n<!-- 1&#45;&gt;9 -->\n<g id=\"edge9\" class=\"edge\">\n<title>1&#45;&gt;9</title>\n<path fill=\"none\" stroke=\"#000000\" d=\"M532,-579.8796C532,-571.6838 532,-562.9891 532,-554.5013\"/>\n<polygon fill=\"#000000\" stroke=\"#000000\" points=\"535.5001,-554.298 532,-544.2981 528.5001,-554.2981 535.5001,-554.298\"/>\n</g>\n<!-- 3 -->\n<g id=\"node4\" class=\"node\">\n<title>3</title>\n<path fill=\"#399de5\" stroke=\"#000000\" d=\"M150,-417.5C150,-417.5 58,-417.5 58,-417.5 52,-417.5 46,-411.5 46,-405.5 46,-405.5 46,-361.5 46,-361.5 46,-355.5 52,-349.5 58,-349.5 58,-349.5 150,-349.5 150,-349.5 156,-349.5 162,-355.5 162,-361.5 162,-361.5 162,-405.5 162,-405.5 162,-411.5 156,-417.5 150,-417.5\"/>\n<text text-anchor=\"start\" x=\"61.5\" y=\"-402.3\" font-family=\"Helvetica,sans-Serif\" font-size=\"14.00\" fill=\"#000000\">entropy = 0.0</text>\n<text text-anchor=\"start\" x=\"56\" y=\"-387.3\" font-family=\"Helvetica,sans-Serif\" font-size=\"14.00\" fill=\"#000000\">samples = 169</text>\n<text text-anchor=\"start\" x=\"54\" y=\"-372.3\" font-family=\"Helvetica,sans-Serif\" font-size=\"14.00\" fill=\"#000000\">value = [0, 169]</text>\n<text text-anchor=\"start\" x=\"57\" y=\"-357.3\" font-family=\"Helvetica,sans-Serif\" font-size=\"14.00\" fill=\"#000000\">class = benign</text>\n</g>\n<!-- 2&#45;&gt;3 -->\n<g id=\"edge3\" class=\"edge\">\n<title>2&#45;&gt;3</title>\n<path fill=\"none\" stroke=\"#000000\" d=\"M200.887,-460.8796C186.0174,-449.0038 169.836,-436.0804 155.0317,-424.2568\"/>\n<polygon fill=\"#000000\" stroke=\"#000000\" points=\"156.9638,-421.3207 146.9658,-417.8149 152.5954,-426.7904 156.9638,-421.3207\"/>\n</g>\n<!-- 4 -->\n<g id=\"node5\" class=\"node\">\n<title>4</title>\n<path fill=\"#49a5e7\" stroke=\"#000000\" d=\"M313.5,-425C313.5,-425 192.5,-425 192.5,-425 186.5,-425 180.5,-419 180.5,-413 180.5,-413 180.5,-354 180.5,-354 180.5,-348 186.5,-342 192.5,-342 192.5,-342 313.5,-342 313.5,-342 319.5,-342 325.5,-348 325.5,-354 325.5,-354 325.5,-413 325.5,-413 325.5,-419 319.5,-425 313.5,-425\"/>\n<text text-anchor=\"start\" x=\"188.5\" y=\"-409.8\" font-family=\"Helvetica,sans-Serif\" font-size=\"14.00\" fill=\"#000000\">mean texture ≤ 23.2</text>\n<text text-anchor=\"start\" x=\"202\" y=\"-394.8\" font-family=\"Helvetica,sans-Serif\" font-size=\"14.00\" fill=\"#000000\">entropy = 0.391</text>\n<text text-anchor=\"start\" x=\"209\" y=\"-379.8\" font-family=\"Helvetica,sans-Serif\" font-size=\"14.00\" fill=\"#000000\">samples = 26</text>\n<text text-anchor=\"start\" x=\"207.5\" y=\"-364.8\" font-family=\"Helvetica,sans-Serif\" font-size=\"14.00\" fill=\"#000000\">value = [2, 24]</text>\n<text text-anchor=\"start\" x=\"206\" y=\"-349.8\" font-family=\"Helvetica,sans-Serif\" font-size=\"14.00\" fill=\"#000000\">class = benign</text>\n</g>\n<!-- 2&#45;&gt;4 -->\n<g id=\"edge4\" class=\"edge\">\n<title>2&#45;&gt;4</title>\n<path fill=\"none\" stroke=\"#000000\" d=\"M253,-460.8796C253,-452.6838 253,-443.9891 253,-435.5013\"/>\n<polygon fill=\"#000000\" stroke=\"#000000\" points=\"256.5001,-435.298 253,-425.2981 249.5001,-435.2981 256.5001,-435.298\"/>\n</g>\n<!-- 5 -->\n<g id=\"node6\" class=\"node\">\n<title>5</title>\n<path fill=\"#88c4ef\" stroke=\"#000000\" d=\"M181,-306C181,-306 67,-306 67,-306 61,-306 55,-300 55,-294 55,-294 55,-235 55,-235 55,-229 61,-223 67,-223 67,-223 181,-223 181,-223 187,-223 193,-229 193,-235 193,-235 193,-294 193,-294 193,-300 187,-306 181,-306\"/>\n<text text-anchor=\"start\" x=\"63\" y=\"-290.8\" font-family=\"Helvetica,sans-Serif\" font-size=\"14.00\" fill=\"#000000\">mean area ≤ 486.4</text>\n<text text-anchor=\"start\" x=\"73\" y=\"-275.8\" font-family=\"Helvetica,sans-Serif\" font-size=\"14.00\" fill=\"#000000\">entropy = 0.863</text>\n<text text-anchor=\"start\" x=\"84.5\" y=\"-260.8\" font-family=\"Helvetica,sans-Serif\" font-size=\"14.00\" fill=\"#000000\">samples = 7</text>\n<text text-anchor=\"start\" x=\"82.5\" y=\"-245.8\" font-family=\"Helvetica,sans-Serif\" font-size=\"14.00\" fill=\"#000000\">value = [2, 5]</text>\n<text text-anchor=\"start\" x=\"77\" y=\"-230.8\" font-family=\"Helvetica,sans-Serif\" font-size=\"14.00\" fill=\"#000000\">class = benign</text>\n</g>\n<!-- 4&#45;&gt;5 -->\n<g id=\"edge5\" class=\"edge\">\n<title>4&#45;&gt;5</title>\n<path fill=\"none\" stroke=\"#000000\" d=\"M207.8821,-341.8796C197.826,-332.6031 187.077,-322.6874 176.7446,-313.1559\"/>\n<polygon fill=\"#000000\" stroke=\"#000000\" points=\"179.0339,-310.506 169.3105,-306.2981 174.2876,-315.6511 179.0339,-310.506\"/>\n</g>\n<!-- 8 -->\n<g id=\"node9\" class=\"node\">\n<title>8</title>\n<path fill=\"#399de5\" stroke=\"#000000\" d=\"M309,-298.5C309,-298.5 223,-298.5 223,-298.5 217,-298.5 211,-292.5 211,-286.5 211,-286.5 211,-242.5 211,-242.5 211,-236.5 217,-230.5 223,-230.5 223,-230.5 309,-230.5 309,-230.5 315,-230.5 321,-236.5 321,-242.5 321,-242.5 321,-286.5 321,-286.5 321,-292.5 315,-298.5 309,-298.5\"/>\n<text text-anchor=\"start\" x=\"223.5\" y=\"-283.3\" font-family=\"Helvetica,sans-Serif\" font-size=\"14.00\" fill=\"#000000\">entropy = 0.0</text>\n<text text-anchor=\"start\" x=\"222\" y=\"-268.3\" font-family=\"Helvetica,sans-Serif\" font-size=\"14.00\" fill=\"#000000\">samples = 19</text>\n<text text-anchor=\"start\" x=\"220.5\" y=\"-253.3\" font-family=\"Helvetica,sans-Serif\" font-size=\"14.00\" fill=\"#000000\">value = [0, 19]</text>\n<text text-anchor=\"start\" x=\"219\" y=\"-238.3\" font-family=\"Helvetica,sans-Serif\" font-size=\"14.00\" fill=\"#000000\">class = benign</text>\n</g>\n<!-- 4&#45;&gt;8 -->\n<g id=\"edge8\" class=\"edge\">\n<title>4&#45;&gt;8</title>\n<path fill=\"none\" stroke=\"#000000\" d=\"M257.5468,-341.8796C258.712,-331.2134 259.9695,-319.7021 261.1494,-308.9015\"/>\n<polygon fill=\"#000000\" stroke=\"#000000\" points=\"264.6445,-309.1359 262.2513,-298.8149 257.6859,-308.3757 264.6445,-309.1359\"/>\n</g>\n<!-- 6 -->\n<g id=\"node7\" class=\"node\">\n<title>6</title>\n<path fill=\"#399de5\" stroke=\"#000000\" d=\"M98,-179.5C98,-179.5 12,-179.5 12,-179.5 6,-179.5 0,-173.5 0,-167.5 0,-167.5 0,-123.5 0,-123.5 0,-117.5 6,-111.5 12,-111.5 12,-111.5 98,-111.5 98,-111.5 104,-111.5 110,-117.5 110,-123.5 110,-123.5 110,-167.5 110,-167.5 110,-173.5 104,-179.5 98,-179.5\"/>\n<text text-anchor=\"start\" x=\"12.5\" y=\"-164.3\" font-family=\"Helvetica,sans-Serif\" font-size=\"14.00\" fill=\"#000000\">entropy = 0.0</text>\n<text text-anchor=\"start\" x=\"15.5\" y=\"-149.3\" font-family=\"Helvetica,sans-Serif\" font-size=\"14.00\" fill=\"#000000\">samples = 5</text>\n<text text-anchor=\"start\" x=\"13.5\" y=\"-134.3\" font-family=\"Helvetica,sans-Serif\" font-size=\"14.00\" fill=\"#000000\">value = [0, 5]</text>\n<text text-anchor=\"start\" x=\"8\" y=\"-119.3\" font-family=\"Helvetica,sans-Serif\" font-size=\"14.00\" fill=\"#000000\">class = benign</text>\n</g>\n<!-- 5&#45;&gt;6 -->\n<g id=\"edge6\" class=\"edge\">\n<title>5&#45;&gt;6</title>\n<path fill=\"none\" stroke=\"#000000\" d=\"M99.8671,-222.8796C93.4275,-211.7735 86.4566,-199.7513 79.9729,-188.5691\"/>\n<polygon fill=\"#000000\" stroke=\"#000000\" points=\"82.9409,-186.7102 74.8969,-179.8149 76.8852,-190.2215 82.9409,-186.7102\"/>\n</g>\n<!-- 7 -->\n<g id=\"node8\" class=\"node\">\n<title>7</title>\n<path fill=\"#e58139\" stroke=\"#000000\" d=\"M245.5,-179.5C245.5,-179.5 140.5,-179.5 140.5,-179.5 134.5,-179.5 128.5,-173.5 128.5,-167.5 128.5,-167.5 128.5,-123.5 128.5,-123.5 128.5,-117.5 134.5,-111.5 140.5,-111.5 140.5,-111.5 245.5,-111.5 245.5,-111.5 251.5,-111.5 257.5,-117.5 257.5,-123.5 257.5,-123.5 257.5,-167.5 257.5,-167.5 257.5,-173.5 251.5,-179.5 245.5,-179.5\"/>\n<text text-anchor=\"start\" x=\"150.5\" y=\"-164.3\" font-family=\"Helvetica,sans-Serif\" font-size=\"14.00\" fill=\"#000000\">entropy = 0.0</text>\n<text text-anchor=\"start\" x=\"153.5\" y=\"-149.3\" font-family=\"Helvetica,sans-Serif\" font-size=\"14.00\" fill=\"#000000\">samples = 2</text>\n<text text-anchor=\"start\" x=\"151.5\" y=\"-134.3\" font-family=\"Helvetica,sans-Serif\" font-size=\"14.00\" fill=\"#000000\">value = [2, 0]</text>\n<text text-anchor=\"start\" x=\"136.5\" y=\"-119.3\" font-family=\"Helvetica,sans-Serif\" font-size=\"14.00\" fill=\"#000000\">class = malignant</text>\n</g>\n<!-- 5&#45;&gt;7 -->\n<g id=\"edge7\" class=\"edge\">\n<title>5&#45;&gt;7</title>\n<path fill=\"none\" stroke=\"#000000\" d=\"M148.1329,-222.8796C154.5725,-211.7735 161.5434,-199.7513 168.0271,-188.5691\"/>\n<polygon fill=\"#000000\" stroke=\"#000000\" points=\"171.1148,-190.2215 173.1031,-179.8149 165.0591,-186.7102 171.1148,-190.2215\"/>\n</g>\n<!-- 10 -->\n<g id=\"node11\" class=\"node\">\n<title>10</title>\n<path fill=\"#cee6f8\" stroke=\"#000000\" d=\"M528,-425C528,-425 356,-425 356,-425 350,-425 344,-419 344,-413 344,-413 344,-354 344,-354 344,-348 350,-342 356,-342 356,-342 528,-342 528,-342 534,-342 540,-348 540,-354 540,-354 540,-413 540,-413 540,-419 534,-425 528,-425\"/>\n<text text-anchor=\"start\" x=\"352\" y=\"-409.8\" font-family=\"Helvetica,sans-Serif\" font-size=\"14.00\" fill=\"#000000\">mean compactness ≤ 0.071</text>\n<text text-anchor=\"start\" x=\"391\" y=\"-394.8\" font-family=\"Helvetica,sans-Serif\" font-size=\"14.00\" fill=\"#000000\">entropy = 0.985</text>\n<text text-anchor=\"start\" x=\"402.5\" y=\"-379.8\" font-family=\"Helvetica,sans-Serif\" font-size=\"14.00\" fill=\"#000000\">samples = 7</text>\n<text text-anchor=\"start\" x=\"400.5\" y=\"-364.8\" font-family=\"Helvetica,sans-Serif\" font-size=\"14.00\" fill=\"#000000\">value = [3, 4]</text>\n<text text-anchor=\"start\" x=\"395\" y=\"-349.8\" font-family=\"Helvetica,sans-Serif\" font-size=\"14.00\" fill=\"#000000\">class = benign</text>\n</g>\n<!-- 9&#45;&gt;10 -->\n<g id=\"edge10\" class=\"edge\">\n<title>9&#45;&gt;10</title>\n<path fill=\"none\" stroke=\"#000000\" d=\"M500.5224,-460.8796C493.8471,-452.0534 486.7342,-442.6485 479.8504,-433.5466\"/>\n<polygon fill=\"#000000\" stroke=\"#000000\" points=\"482.4357,-431.1626 473.612,-425.2981 476.8526,-435.3852 482.4357,-431.1626\"/>\n</g>\n<!-- 13 -->\n<g id=\"node14\" class=\"node\">\n<title>13</title>\n<path fill=\"#e58139\" stroke=\"#000000\" d=\"M675.5,-417.5C675.5,-417.5 570.5,-417.5 570.5,-417.5 564.5,-417.5 558.5,-411.5 558.5,-405.5 558.5,-405.5 558.5,-361.5 558.5,-361.5 558.5,-355.5 564.5,-349.5 570.5,-349.5 570.5,-349.5 675.5,-349.5 675.5,-349.5 681.5,-349.5 687.5,-355.5 687.5,-361.5 687.5,-361.5 687.5,-405.5 687.5,-405.5 687.5,-411.5 681.5,-417.5 675.5,-417.5\"/>\n<text text-anchor=\"start\" x=\"580.5\" y=\"-402.3\" font-family=\"Helvetica,sans-Serif\" font-size=\"14.00\" fill=\"#000000\">entropy = 0.0</text>\n<text text-anchor=\"start\" x=\"583.5\" y=\"-387.3\" font-family=\"Helvetica,sans-Serif\" font-size=\"14.00\" fill=\"#000000\">samples = 8</text>\n<text text-anchor=\"start\" x=\"581.5\" y=\"-372.3\" font-family=\"Helvetica,sans-Serif\" font-size=\"14.00\" fill=\"#000000\">value = [8, 0]</text>\n<text text-anchor=\"start\" x=\"566.5\" y=\"-357.3\" font-family=\"Helvetica,sans-Serif\" font-size=\"14.00\" fill=\"#000000\">class = malignant</text>\n</g>\n<!-- 9&#45;&gt;13 -->\n<g id=\"edge13\" class=\"edge\">\n<title>9&#45;&gt;13</title>\n<path fill=\"none\" stroke=\"#000000\" d=\"M563.8274,-460.8796C572.4884,-449.5536 581.8781,-437.2748 590.572,-425.9058\"/>\n<polygon fill=\"#000000\" stroke=\"#000000\" points=\"593.4649,-427.8846 596.7592,-417.8149 587.9044,-423.6324 593.4649,-427.8846\"/>\n</g>\n<!-- 11 -->\n<g id=\"node12\" class=\"node\">\n<title>11</title>\n<path fill=\"#e58139\" stroke=\"#000000\" d=\"M481.5,-298.5C481.5,-298.5 376.5,-298.5 376.5,-298.5 370.5,-298.5 364.5,-292.5 364.5,-286.5 364.5,-286.5 364.5,-242.5 364.5,-242.5 364.5,-236.5 370.5,-230.5 376.5,-230.5 376.5,-230.5 481.5,-230.5 481.5,-230.5 487.5,-230.5 493.5,-236.5 493.5,-242.5 493.5,-242.5 493.5,-286.5 493.5,-286.5 493.5,-292.5 487.5,-298.5 481.5,-298.5\"/>\n<text text-anchor=\"start\" x=\"386.5\" y=\"-283.3\" font-family=\"Helvetica,sans-Serif\" font-size=\"14.00\" fill=\"#000000\">entropy = 0.0</text>\n<text text-anchor=\"start\" x=\"389.5\" y=\"-268.3\" font-family=\"Helvetica,sans-Serif\" font-size=\"14.00\" fill=\"#000000\">samples = 3</text>\n<text text-anchor=\"start\" x=\"387.5\" y=\"-253.3\" font-family=\"Helvetica,sans-Serif\" font-size=\"14.00\" fill=\"#000000\">value = [3, 0]</text>\n<text text-anchor=\"start\" x=\"372.5\" y=\"-238.3\" font-family=\"Helvetica,sans-Serif\" font-size=\"14.00\" fill=\"#000000\">class = malignant</text>\n</g>\n<!-- 10&#45;&gt;11 -->\n<g id=\"edge11\" class=\"edge\">\n<title>10&#45;&gt;11</title>\n<path fill=\"none\" stroke=\"#000000\" d=\"M437.4532,-341.8796C436.288,-331.2134 435.0305,-319.7021 433.8506,-308.9015\"/>\n<polygon fill=\"#000000\" stroke=\"#000000\" points=\"437.3141,-308.3757 432.7487,-298.8149 430.3555,-309.1359 437.3141,-308.3757\"/>\n</g>\n<!-- 12 -->\n<g id=\"node13\" class=\"node\">\n<title>12</title>\n<path fill=\"#399de5\" stroke=\"#000000\" d=\"M610,-298.5C610,-298.5 524,-298.5 524,-298.5 518,-298.5 512,-292.5 512,-286.5 512,-286.5 512,-242.5 512,-242.5 512,-236.5 518,-230.5 524,-230.5 524,-230.5 610,-230.5 610,-230.5 616,-230.5 622,-236.5 622,-242.5 622,-242.5 622,-286.5 622,-286.5 622,-292.5 616,-298.5 610,-298.5\"/>\n<text text-anchor=\"start\" x=\"524.5\" y=\"-283.3\" font-family=\"Helvetica,sans-Serif\" font-size=\"14.00\" fill=\"#000000\">entropy = 0.0</text>\n<text text-anchor=\"start\" x=\"527.5\" y=\"-268.3\" font-family=\"Helvetica,sans-Serif\" font-size=\"14.00\" fill=\"#000000\">samples = 4</text>\n<text text-anchor=\"start\" x=\"525.5\" y=\"-253.3\" font-family=\"Helvetica,sans-Serif\" font-size=\"14.00\" fill=\"#000000\">value = [0, 4]</text>\n<text text-anchor=\"start\" x=\"520\" y=\"-238.3\" font-family=\"Helvetica,sans-Serif\" font-size=\"14.00\" fill=\"#000000\">class = benign</text>\n</g>\n<!-- 10&#45;&gt;12 -->\n<g id=\"edge12\" class=\"edge\">\n<title>10&#45;&gt;12</title>\n<path fill=\"none\" stroke=\"#000000\" d=\"M485.7189,-341.8796C497.9625,-330.2237 511.2661,-317.5587 523.4971,-305.9148\"/>\n<polygon fill=\"#000000\" stroke=\"#000000\" points=\"526.1254,-308.245 530.9549,-298.8149 521.2988,-303.1751 526.1254,-308.245\"/>\n</g>\n<!-- 15 -->\n<g id=\"node16\" class=\"node\">\n<title>15</title>\n<path fill=\"#f7d7c0\" stroke=\"#000000\" d=\"M867.5,-544C867.5,-544 748.5,-544 748.5,-544 742.5,-544 736.5,-538 736.5,-532 736.5,-532 736.5,-473 736.5,-473 736.5,-467 742.5,-461 748.5,-461 748.5,-461 867.5,-461 867.5,-461 873.5,-461 879.5,-467 879.5,-473 879.5,-473 879.5,-532 879.5,-532 879.5,-538 873.5,-544 867.5,-544\"/>\n<text text-anchor=\"start\" x=\"744.5\" y=\"-528.8\" font-family=\"Helvetica,sans-Serif\" font-size=\"14.00\" fill=\"#000000\">worst texture ≤ 26.9</text>\n<text text-anchor=\"start\" x=\"757\" y=\"-513.8\" font-family=\"Helvetica,sans-Serif\" font-size=\"14.00\" fill=\"#000000\">entropy = 0.974</text>\n<text text-anchor=\"start\" x=\"764\" y=\"-498.8\" font-family=\"Helvetica,sans-Serif\" font-size=\"14.00\" fill=\"#000000\">samples = 37</text>\n<text text-anchor=\"start\" x=\"758\" y=\"-483.8\" font-family=\"Helvetica,sans-Serif\" font-size=\"14.00\" fill=\"#000000\">value = [22, 15]</text>\n<text text-anchor=\"start\" x=\"751.5\" y=\"-468.8\" font-family=\"Helvetica,sans-Serif\" font-size=\"14.00\" fill=\"#000000\">class = malignant</text>\n</g>\n<!-- 14&#45;&gt;15 -->\n<g id=\"edge15\" class=\"edge\">\n<title>14&#45;&gt;15</title>\n<path fill=\"none\" stroke=\"#000000\" d=\"M808,-579.8796C808,-571.6838 808,-562.9891 808,-554.5013\"/>\n<polygon fill=\"#000000\" stroke=\"#000000\" points=\"811.5001,-554.298 808,-544.2981 804.5001,-554.2981 811.5001,-554.298\"/>\n</g>\n<!-- 24 -->\n<g id=\"node25\" class=\"node\">\n<title>24</title>\n<path fill=\"#e58139\" stroke=\"#000000\" d=\"M1014.5,-536.5C1014.5,-536.5 909.5,-536.5 909.5,-536.5 903.5,-536.5 897.5,-530.5 897.5,-524.5 897.5,-524.5 897.5,-480.5 897.5,-480.5 897.5,-474.5 903.5,-468.5 909.5,-468.5 909.5,-468.5 1014.5,-468.5 1014.5,-468.5 1020.5,-468.5 1026.5,-474.5 1026.5,-480.5 1026.5,-480.5 1026.5,-524.5 1026.5,-524.5 1026.5,-530.5 1020.5,-536.5 1014.5,-536.5\"/>\n<text text-anchor=\"start\" x=\"919.5\" y=\"-521.3\" font-family=\"Helvetica,sans-Serif\" font-size=\"14.00\" fill=\"#000000\">entropy = 0.0</text>\n<text text-anchor=\"start\" x=\"918\" y=\"-506.3\" font-family=\"Helvetica,sans-Serif\" font-size=\"14.00\" fill=\"#000000\">samples = 94</text>\n<text text-anchor=\"start\" x=\"916.5\" y=\"-491.3\" font-family=\"Helvetica,sans-Serif\" font-size=\"14.00\" fill=\"#000000\">value = [94, 0]</text>\n<text text-anchor=\"start\" x=\"905.5\" y=\"-476.3\" font-family=\"Helvetica,sans-Serif\" font-size=\"14.00\" fill=\"#000000\">class = malignant</text>\n</g>\n<!-- 14&#45;&gt;24 -->\n<g id=\"edge24\" class=\"edge\">\n<title>14&#45;&gt;24</title>\n<path fill=\"none\" stroke=\"#000000\" d=\"M861.8617,-579.8796C877.2304,-568.0038 893.9547,-555.0804 909.2559,-543.2568\"/>\n<polygon fill=\"#000000\" stroke=\"#000000\" points=\"911.8196,-545.699 917.5924,-536.8149 907.5395,-540.1599 911.8196,-545.699\"/>\n</g>\n<!-- 16 -->\n<g id=\"node17\" class=\"node\">\n<title>16</title>\n<path fill=\"#95cbf1\" stroke=\"#000000\" d=\"M898.5,-425C898.5,-425 717.5,-425 717.5,-425 711.5,-425 705.5,-419 705.5,-413 705.5,-413 705.5,-354 705.5,-354 705.5,-348 711.5,-342 717.5,-342 717.5,-342 898.5,-342 898.5,-342 904.5,-342 910.5,-348 910.5,-354 910.5,-354 910.5,-413 910.5,-413 910.5,-419 904.5,-425 898.5,-425\"/>\n<text text-anchor=\"start\" x=\"713.5\" y=\"-409.8\" font-family=\"Helvetica,sans-Serif\" font-size=\"14.00\" fill=\"#000000\">worst concave points ≤ 0.181</text>\n<text text-anchor=\"start\" x=\"757\" y=\"-394.8\" font-family=\"Helvetica,sans-Serif\" font-size=\"14.00\" fill=\"#000000\">entropy = 0.902</text>\n<text text-anchor=\"start\" x=\"764\" y=\"-379.8\" font-family=\"Helvetica,sans-Serif\" font-size=\"14.00\" fill=\"#000000\">samples = 22</text>\n<text text-anchor=\"start\" x=\"762.5\" y=\"-364.8\" font-family=\"Helvetica,sans-Serif\" font-size=\"14.00\" fill=\"#000000\">value = [7, 15]</text>\n<text text-anchor=\"start\" x=\"761\" y=\"-349.8\" font-family=\"Helvetica,sans-Serif\" font-size=\"14.00\" fill=\"#000000\">class = benign</text>\n</g>\n<!-- 15&#45;&gt;16 -->\n<g id=\"edge16\" class=\"edge\">\n<title>15&#45;&gt;16</title>\n<path fill=\"none\" stroke=\"#000000\" d=\"M808,-460.8796C808,-452.6838 808,-443.9891 808,-435.5013\"/>\n<polygon fill=\"#000000\" stroke=\"#000000\" points=\"811.5001,-435.298 808,-425.2981 804.5001,-435.2981 811.5001,-435.298\"/>\n</g>\n<!-- 23 -->\n<g id=\"node24\" class=\"node\">\n<title>23</title>\n<path fill=\"#e58139\" stroke=\"#000000\" d=\"M1045.5,-417.5C1045.5,-417.5 940.5,-417.5 940.5,-417.5 934.5,-417.5 928.5,-411.5 928.5,-405.5 928.5,-405.5 928.5,-361.5 928.5,-361.5 928.5,-355.5 934.5,-349.5 940.5,-349.5 940.5,-349.5 1045.5,-349.5 1045.5,-349.5 1051.5,-349.5 1057.5,-355.5 1057.5,-361.5 1057.5,-361.5 1057.5,-405.5 1057.5,-405.5 1057.5,-411.5 1051.5,-417.5 1045.5,-417.5\"/>\n<text text-anchor=\"start\" x=\"950.5\" y=\"-402.3\" font-family=\"Helvetica,sans-Serif\" font-size=\"14.00\" fill=\"#000000\">entropy = 0.0</text>\n<text text-anchor=\"start\" x=\"949\" y=\"-387.3\" font-family=\"Helvetica,sans-Serif\" font-size=\"14.00\" fill=\"#000000\">samples = 15</text>\n<text text-anchor=\"start\" x=\"947.5\" y=\"-372.3\" font-family=\"Helvetica,sans-Serif\" font-size=\"14.00\" fill=\"#000000\">value = [15, 0]</text>\n<text text-anchor=\"start\" x=\"936.5\" y=\"-357.3\" font-family=\"Helvetica,sans-Serif\" font-size=\"14.00\" fill=\"#000000\">class = malignant</text>\n</g>\n<!-- 15&#45;&gt;23 -->\n<g id=\"edge23\" class=\"edge\">\n<title>15&#45;&gt;23</title>\n<path fill=\"none\" stroke=\"#000000\" d=\"M872.704,-460.8796C891.7696,-448.6158 912.5719,-435.2348 931.4346,-423.1015\"/>\n<polygon fill=\"#000000\" stroke=\"#000000\" points=\"933.4347,-425.9766 939.9516,-417.623 929.6478,-420.0893 933.4347,-425.9766\"/>\n</g>\n<!-- 17 -->\n<g id=\"node18\" class=\"node\">\n<title>17</title>\n<path fill=\"#61b1ea\" stroke=\"#000000\" d=\"M820,-306C820,-306 708,-306 708,-306 702,-306 696,-300 696,-294 696,-294 696,-235 696,-235 696,-229 702,-223 708,-223 708,-223 820,-223 820,-223 826,-223 832,-229 832,-235 832,-235 832,-294 832,-294 832,-300 826,-306 820,-306\"/>\n<text text-anchor=\"start\" x=\"704\" y=\"-290.8\" font-family=\"Helvetica,sans-Serif\" font-size=\"14.00\" fill=\"#000000\">worst area ≤ 811.1</text>\n<text text-anchor=\"start\" x=\"717\" y=\"-275.8\" font-family=\"Helvetica,sans-Serif\" font-size=\"14.00\" fill=\"#000000\">entropy = 0.65</text>\n<text text-anchor=\"start\" x=\"720\" y=\"-260.8\" font-family=\"Helvetica,sans-Serif\" font-size=\"14.00\" fill=\"#000000\">samples = 18</text>\n<text text-anchor=\"start\" x=\"718.5\" y=\"-245.8\" font-family=\"Helvetica,sans-Serif\" font-size=\"14.00\" fill=\"#000000\">value = [3, 15]</text>\n<text text-anchor=\"start\" x=\"717\" y=\"-230.8\" font-family=\"Helvetica,sans-Serif\" font-size=\"14.00\" fill=\"#000000\">class = benign</text>\n</g>\n<!-- 16&#45;&gt;17 -->\n<g id=\"edge17\" class=\"edge\">\n<title>16&#45;&gt;17</title>\n<path fill=\"none\" stroke=\"#000000\" d=\"M792.6109,-341.8796C789.514,-333.5037 786.2243,-324.6067 783.0206,-315.942\"/>\n<polygon fill=\"#000000\" stroke=\"#000000\" points=\"786.2056,-314.4636 779.4547,-306.2981 779.64,-316.8913 786.2056,-314.4636\"/>\n</g>\n<!-- 22 -->\n<g id=\"node23\" class=\"node\">\n<title>22</title>\n<path fill=\"#e58139\" stroke=\"#000000\" d=\"M967.5,-298.5C967.5,-298.5 862.5,-298.5 862.5,-298.5 856.5,-298.5 850.5,-292.5 850.5,-286.5 850.5,-286.5 850.5,-242.5 850.5,-242.5 850.5,-236.5 856.5,-230.5 862.5,-230.5 862.5,-230.5 967.5,-230.5 967.5,-230.5 973.5,-230.5 979.5,-236.5 979.5,-242.5 979.5,-242.5 979.5,-286.5 979.5,-286.5 979.5,-292.5 973.5,-298.5 967.5,-298.5\"/>\n<text text-anchor=\"start\" x=\"872.5\" y=\"-283.3\" font-family=\"Helvetica,sans-Serif\" font-size=\"14.00\" fill=\"#000000\">entropy = 0.0</text>\n<text text-anchor=\"start\" x=\"875.5\" y=\"-268.3\" font-family=\"Helvetica,sans-Serif\" font-size=\"14.00\" fill=\"#000000\">samples = 4</text>\n<text text-anchor=\"start\" x=\"873.5\" y=\"-253.3\" font-family=\"Helvetica,sans-Serif\" font-size=\"14.00\" fill=\"#000000\">value = [4, 0]</text>\n<text text-anchor=\"start\" x=\"858.5\" y=\"-238.3\" font-family=\"Helvetica,sans-Serif\" font-size=\"14.00\" fill=\"#000000\">class = malignant</text>\n</g>\n<!-- 16&#45;&gt;22 -->\n<g id=\"edge22\" class=\"edge\">\n<title>16&#45;&gt;22</title>\n<path fill=\"none\" stroke=\"#000000\" d=\"M845.4234,-341.8796C855.7061,-330.4436 866.8623,-318.0363 877.1679,-306.575\"/>\n<polygon fill=\"#000000\" stroke=\"#000000\" points=\"880.0618,-308.5912 884.1454,-298.8149 874.8565,-303.9108 880.0618,-308.5912\"/>\n</g>\n<!-- 18 -->\n<g id=\"node19\" class=\"node\">\n<title>18</title>\n<path fill=\"#399de5\" stroke=\"#000000\" d=\"M736,-179.5C736,-179.5 650,-179.5 650,-179.5 644,-179.5 638,-173.5 638,-167.5 638,-167.5 638,-123.5 638,-123.5 638,-117.5 644,-111.5 650,-111.5 650,-111.5 736,-111.5 736,-111.5 742,-111.5 748,-117.5 748,-123.5 748,-123.5 748,-167.5 748,-167.5 748,-173.5 742,-179.5 736,-179.5\"/>\n<text text-anchor=\"start\" x=\"650.5\" y=\"-164.3\" font-family=\"Helvetica,sans-Serif\" font-size=\"14.00\" fill=\"#000000\">entropy = 0.0</text>\n<text text-anchor=\"start\" x=\"649\" y=\"-149.3\" font-family=\"Helvetica,sans-Serif\" font-size=\"14.00\" fill=\"#000000\">samples = 12</text>\n<text text-anchor=\"start\" x=\"647.5\" y=\"-134.3\" font-family=\"Helvetica,sans-Serif\" font-size=\"14.00\" fill=\"#000000\">value = [0, 12]</text>\n<text text-anchor=\"start\" x=\"646\" y=\"-119.3\" font-family=\"Helvetica,sans-Serif\" font-size=\"14.00\" fill=\"#000000\">class = benign</text>\n</g>\n<!-- 17&#45;&gt;18 -->\n<g id=\"edge18\" class=\"edge\">\n<title>17&#45;&gt;18</title>\n<path fill=\"none\" stroke=\"#000000\" d=\"M739.1676,-222.8796C732.5413,-211.7735 725.3684,-199.7513 718.6967,-188.5691\"/>\n<polygon fill=\"#000000\" stroke=\"#000000\" points=\"721.6031,-186.6093 713.4736,-179.8149 715.5917,-190.1959 721.6031,-186.6093\"/>\n</g>\n<!-- 19 -->\n<g id=\"node20\" class=\"node\">\n<title>19</title>\n<path fill=\"#ffffff\" stroke=\"#000000\" d=\"M890,-187C890,-187 778,-187 778,-187 772,-187 766,-181 766,-175 766,-175 766,-116 766,-116 766,-110 772,-104 778,-104 778,-104 890,-104 890,-104 896,-104 902,-110 902,-116 902,-116 902,-175 902,-175 902,-181 896,-187 890,-187\"/>\n<text text-anchor=\"start\" x=\"774\" y=\"-171.8\" font-family=\"Helvetica,sans-Serif\" font-size=\"14.00\" fill=\"#000000\">worst area ≤ 842.6</text>\n<text text-anchor=\"start\" x=\"791.5\" y=\"-156.8\" font-family=\"Helvetica,sans-Serif\" font-size=\"14.00\" fill=\"#000000\">entropy = 1.0</text>\n<text text-anchor=\"start\" x=\"794.5\" y=\"-141.8\" font-family=\"Helvetica,sans-Serif\" font-size=\"14.00\" fill=\"#000000\">samples = 6</text>\n<text text-anchor=\"start\" x=\"792.5\" y=\"-126.8\" font-family=\"Helvetica,sans-Serif\" font-size=\"14.00\" fill=\"#000000\">value = [3, 3]</text>\n<text text-anchor=\"start\" x=\"777.5\" y=\"-111.8\" font-family=\"Helvetica,sans-Serif\" font-size=\"14.00\" fill=\"#000000\">class = malignant</text>\n</g>\n<!-- 17&#45;&gt;19 -->\n<g id=\"edge19\" class=\"edge\">\n<title>17&#45;&gt;19</title>\n<path fill=\"none\" stroke=\"#000000\" d=\"M788.4826,-222.8796C793.5685,-214.2335 798.9811,-205.0322 804.2328,-196.1042\"/>\n<polygon fill=\"#000000\" stroke=\"#000000\" points=\"807.3594,-197.692 809.4129,-187.2981 801.3259,-194.1428 807.3594,-197.692\"/>\n</g>\n<!-- 20 -->\n<g id=\"node21\" class=\"node\">\n<title>20</title>\n<path fill=\"#e58139\" stroke=\"#000000\" d=\"M817.5,-68C817.5,-68 712.5,-68 712.5,-68 706.5,-68 700.5,-62 700.5,-56 700.5,-56 700.5,-12 700.5,-12 700.5,-6 706.5,0 712.5,0 712.5,0 817.5,0 817.5,0 823.5,0 829.5,-6 829.5,-12 829.5,-12 829.5,-56 829.5,-56 829.5,-62 823.5,-68 817.5,-68\"/>\n<text text-anchor=\"start\" x=\"722.5\" y=\"-52.8\" font-family=\"Helvetica,sans-Serif\" font-size=\"14.00\" fill=\"#000000\">entropy = 0.0</text>\n<text text-anchor=\"start\" x=\"725.5\" y=\"-37.8\" font-family=\"Helvetica,sans-Serif\" font-size=\"14.00\" fill=\"#000000\">samples = 3</text>\n<text text-anchor=\"start\" x=\"723.5\" y=\"-22.8\" font-family=\"Helvetica,sans-Serif\" font-size=\"14.00\" fill=\"#000000\">value = [3, 0]</text>\n<text text-anchor=\"start\" x=\"708.5\" y=\"-7.8\" font-family=\"Helvetica,sans-Serif\" font-size=\"14.00\" fill=\"#000000\">class = malignant</text>\n</g>\n<!-- 19&#45;&gt;20 -->\n<g id=\"edge20\" class=\"edge\">\n<title>19&#45;&gt;20</title>\n<path fill=\"none\" stroke=\"#000000\" d=\"M808.3069,-103.9815C802.8469,-95.1585 797.0716,-85.8258 791.5793,-76.9506\"/>\n<polygon fill=\"#000000\" stroke=\"#000000\" points=\"794.442,-74.9254 786.2035,-68.2637 788.4896,-78.609 794.442,-74.9254\"/>\n</g>\n<!-- 21 -->\n<g id=\"node22\" class=\"node\">\n<title>21</title>\n<path fill=\"#399de5\" stroke=\"#000000\" d=\"M946,-68C946,-68 860,-68 860,-68 854,-68 848,-62 848,-56 848,-56 848,-12 848,-12 848,-6 854,0 860,0 860,0 946,0 946,0 952,0 958,-6 958,-12 958,-12 958,-56 958,-56 958,-62 952,-68 946,-68\"/>\n<text text-anchor=\"start\" x=\"860.5\" y=\"-52.8\" font-family=\"Helvetica,sans-Serif\" font-size=\"14.00\" fill=\"#000000\">entropy = 0.0</text>\n<text text-anchor=\"start\" x=\"863.5\" y=\"-37.8\" font-family=\"Helvetica,sans-Serif\" font-size=\"14.00\" fill=\"#000000\">samples = 3</text>\n<text text-anchor=\"start\" x=\"861.5\" y=\"-22.8\" font-family=\"Helvetica,sans-Serif\" font-size=\"14.00\" fill=\"#000000\">value = [0, 3]</text>\n<text text-anchor=\"start\" x=\"856\" y=\"-7.8\" font-family=\"Helvetica,sans-Serif\" font-size=\"14.00\" fill=\"#000000\">class = benign</text>\n</g>\n<!-- 19&#45;&gt;21 -->\n<g id=\"edge21\" class=\"edge\">\n<title>19&#45;&gt;21</title>\n<path fill=\"none\" stroke=\"#000000\" d=\"M859.6931,-103.9815C865.1531,-95.1585 870.9284,-85.8258 876.4207,-76.9506\"/>\n<polygon fill=\"#000000\" stroke=\"#000000\" points=\"879.5104,-78.609 881.7965,-68.2637 873.558,-74.9254 879.5104,-78.609\"/>\n</g>\n</g>\n</svg>\n"
          },
          "metadata": {},
          "execution_count": 32
        }
      ]
    },
    {
      "cell_type": "markdown",
      "source": [
        "  Evaluacion"
      ],
      "metadata": {
        "id": "2YMTOsuhEKmi"
      }
    },
    {
      "cell_type": "code",
      "source": [
        "from sklearn.metrics import accuracy_score\n",
        "\n",
        "# Utilizo el conjunto de evaluación data_test para predecir mediante el arbol ya entrenado\n",
        "target_predicted = tree_model.predict(data_test)\n",
        "\n",
        "# Calculo el valor de accuracy obtenido\n",
        "accuracy = accuracy_score(target_test, target_predicted)\n",
        "\n",
        "print(\"El valor de accuracy obtenido es: {}\".format(accuracy))"
      ],
      "metadata": {
        "colab": {
          "base_uri": "https://localhost:8080/"
        },
        "id": "szTUuGftEO0T",
        "outputId": "1c6e5c79-70d4-491c-e39c-30898ffb88cd"
      },
      "execution_count": 33,
      "outputs": [
        {
          "output_type": "stream",
          "name": "stdout",
          "text": [
            "El valor de accuracy obtenido es: 0.9342105263157895\n"
          ]
        }
      ]
    },
    {
      "cell_type": "markdown",
      "source": [
        "Sobreentrenamiento"
      ],
      "metadata": {
        "id": "utuAj0w4EVVE"
      }
    },
    {
      "cell_type": "code",
      "source": [
        "# Chequeamos si el árbol esta sobreentrenado evaluandolo con algunos datos del conjunto de entrenamiento\n",
        "\n",
        "target_predicted = tree_model.predict(data_train)\n",
        "\n",
        "train_accuracy = accuracy_score(target_train, target_predicted)\n",
        "\n",
        "print(\"El valor de accuracy obtenido es: {}\".format(train_accuracy))"
      ],
      "metadata": {
        "colab": {
          "base_uri": "https://localhost:8080/"
        },
        "id": "qsTqIXrbEW_N",
        "outputId": "a9ff748a-c685-4943-cc1f-05482f589fb3"
      },
      "execution_count": 42,
      "outputs": [
        {
          "output_type": "stream",
          "name": "stdout",
          "text": [
            "El valor de accuracy obtenido es: 1.0\n"
          ]
        }
      ]
    },
    {
      "cell_type": "markdown",
      "source": [
        "Poda "
      ],
      "metadata": {
        "id": "C6WdDabNFEdc"
      }
    },
    {
      "cell_type": "code",
      "source": [
        "from sklearn.tree._tree import TREE_LEAF\n",
        "from copy import deepcopy\n",
        "\n",
        "# Funcion para podar un árbol.\n",
        "\n",
        "# NOTA: Para reutilizar esta función en otra Notebook hay que importar los mismos paquetes que se\n",
        "# importan en esta celda.\n",
        "\n",
        "def is_leaf(tree_model, node_id):\n",
        "  \"\"\"\n",
        "  Devuelve True si el nodo (node_id), pasado como\n",
        "  argumento, es un nodo hoja del arbol (tree_model).\n",
        "  Caso contrario retorna False.\n",
        "  \"\"\"\n",
        "  return (tree_model.tree_.children_left[node_id] == TREE_LEAF and \n",
        "          tree_model.tree_.children_right[node_id] == TREE_LEAF)\n",
        "\n",
        "\n",
        "def prune(tree_model, levels=1):\n",
        "  \"\"\"\n",
        "  Realiza la poda del arbol pasado como argumento, de forma recursiva, eliminando niveles del mismo.\n",
        "\n",
        "  Esta funcion replica el funcionamiento de su correspondiente par en Matlab:\n",
        "\n",
        "          prune(tree_model, 'level', levels)\n",
        "  \"\"\"\n",
        "  tree_model_copy = deepcopy(tree_model)\n",
        "\n",
        "  def recursive(tree_model, node_id):\n",
        "\n",
        "    if (is_leaf(tree_model, tree_model.tree_.children_left[node_id]) and\n",
        "        is_leaf(tree_model, tree_model.tree_.children_right[node_id])):\n",
        "      tree_model.tree_.children_left[node_id] = TREE_LEAF\n",
        "      tree_model.tree_.children_right[node_id] = TREE_LEAF\n",
        "    \n",
        "    if tree_model.tree_.children_left[node_id] != TREE_LEAF:\n",
        "      recursive(tree_model, tree_model.tree_.children_left[node_id])\n",
        "      recursive(tree_model, tree_model.tree_.children_right[node_id])\n",
        "      \n",
        "    return tree_model\n",
        "  \n",
        "  for _ in range(levels):\n",
        "    tree_model_copy = recursive(tree_model_copy, 0)\n",
        "\n",
        "  return tree_model_copy\n",
        "\n",
        "\n",
        "# Podo el árbol y lo grafico nuevamente\n",
        "pruned_tree_model = prune(tree_model, 2)\n",
        "\n",
        "graph = graph_tree(pruned_tree_model, dataset.feature_names, dataset.target_names)\n",
        "graph"
      ],
      "metadata": {
        "colab": {
          "base_uri": "https://localhost:8080/",
          "height": 757
        },
        "id": "w7p9xsT0FFoh",
        "outputId": "02f70b1d-b95d-48fe-c6eb-f3a55a1cbe37"
      },
      "execution_count": 58,
      "outputs": [
        {
          "output_type": "execute_result",
          "data": {
            "text/plain": [
              "<graphviz.files.Source at 0x7f3d484d1bd0>"
            ],
            "image/svg+xml": "<?xml version=\"1.0\" encoding=\"UTF-8\" standalone=\"no\"?>\n<!DOCTYPE svg PUBLIC \"-//W3C//DTD SVG 1.1//EN\"\n \"http://www.w3.org/Graphics/SVG/1.1/DTD/svg11.dtd\">\n<!-- Generated by graphviz version 2.40.1 (20161225.0304)\n -->\n<!-- Title: Tree Pages: 1 -->\n<svg width=\"680pt\" height=\"552pt\"\n viewBox=\"0.00 0.00 679.50 552.00\" xmlns=\"http://www.w3.org/2000/svg\" xmlns:xlink=\"http://www.w3.org/1999/xlink\">\n<g id=\"graph0\" class=\"graph\" transform=\"scale(1 1) rotate(0) translate(4 548)\">\n<title>Tree</title>\n<polygon fill=\"#ffffff\" stroke=\"transparent\" points=\"-4,4 -4,-548 675.5,-548 675.5,4 -4,4\"/>\n<!-- 0 -->\n<g id=\"node1\" class=\"node\">\n<title>0</title>\n<path fill=\"#b1d9f5\" stroke=\"#000000\" d=\"M456.5,-544C456.5,-544 283.5,-544 283.5,-544 277.5,-544 271.5,-538 271.5,-532 271.5,-532 271.5,-473 271.5,-473 271.5,-467 277.5,-461 283.5,-461 283.5,-461 456.5,-461 456.5,-461 462.5,-461 468.5,-467 468.5,-473 468.5,-473 468.5,-532 468.5,-532 468.5,-538 462.5,-544 456.5,-544\"/>\n<text text-anchor=\"start\" x=\"279.5\" y=\"-528.8\" font-family=\"Helvetica,sans-Serif\" font-size=\"14.00\" fill=\"#000000\">worst concave points ≤ 0.13</text>\n<text text-anchor=\"start\" x=\"319\" y=\"-513.8\" font-family=\"Helvetica,sans-Serif\" font-size=\"14.00\" fill=\"#000000\">entropy = 0.957</text>\n<text text-anchor=\"start\" x=\"322\" y=\"-498.8\" font-family=\"Helvetica,sans-Serif\" font-size=\"14.00\" fill=\"#000000\">samples = 341</text>\n<text text-anchor=\"start\" x=\"312\" y=\"-483.8\" font-family=\"Helvetica,sans-Serif\" font-size=\"14.00\" fill=\"#000000\">value = [129, 212]</text>\n<text text-anchor=\"start\" x=\"323\" y=\"-468.8\" font-family=\"Helvetica,sans-Serif\" font-size=\"14.00\" fill=\"#000000\">class = benign</text>\n</g>\n<!-- 1 -->\n<g id=\"node2\" class=\"node\">\n<title>1</title>\n<path fill=\"#46a3e7\" stroke=\"#000000\" d=\"M341,-425C341,-425 221,-425 221,-425 215,-425 209,-419 209,-413 209,-413 209,-354 209,-354 209,-348 215,-342 221,-342 221,-342 341,-342 341,-342 347,-342 353,-348 353,-354 353,-354 353,-413 353,-413 353,-419 347,-425 341,-425\"/>\n<text text-anchor=\"start\" x=\"217\" y=\"-409.8\" font-family=\"Helvetica,sans-Serif\" font-size=\"14.00\" fill=\"#000000\">worst area ≤ 874.85</text>\n<text text-anchor=\"start\" x=\"230\" y=\"-394.8\" font-family=\"Helvetica,sans-Serif\" font-size=\"14.00\" fill=\"#000000\">entropy = 0.335</text>\n<text text-anchor=\"start\" x=\"233\" y=\"-379.8\" font-family=\"Helvetica,sans-Serif\" font-size=\"14.00\" fill=\"#000000\">samples = 210</text>\n<text text-anchor=\"start\" x=\"227\" y=\"-364.8\" font-family=\"Helvetica,sans-Serif\" font-size=\"14.00\" fill=\"#000000\">value = [13, 197]</text>\n<text text-anchor=\"start\" x=\"234\" y=\"-349.8\" font-family=\"Helvetica,sans-Serif\" font-size=\"14.00\" fill=\"#000000\">class = benign</text>\n</g>\n<!-- 0&#45;&gt;1 -->\n<g id=\"edge1\" class=\"edge\">\n<title>0&#45;&gt;1</title>\n<path fill=\"none\" stroke=\"#000000\" d=\"M338.8721,-460.8796C332.271,-452.0534 325.2371,-442.6485 318.4298,-433.5466\"/>\n<polygon fill=\"#000000\" stroke=\"#000000\" points=\"321.0528,-431.2099 312.2607,-425.2981 315.4472,-435.4024 321.0528,-431.2099\"/>\n<text text-anchor=\"middle\" x=\"308.6919\" y=\"-446.342\" font-family=\"Helvetica,sans-Serif\" font-size=\"14.00\" fill=\"#000000\">True</text>\n</g>\n<!-- 14 -->\n<g id=\"node7\" class=\"node\">\n<title>14</title>\n<path fill=\"#e89153\" stroke=\"#000000\" d=\"M535,-425C535,-425 383,-425 383,-425 377,-425 371,-419 371,-413 371,-413 371,-354 371,-354 371,-348 377,-342 383,-342 383,-342 535,-342 535,-342 541,-342 547,-348 547,-354 547,-354 547,-413 547,-413 547,-419 541,-425 535,-425\"/>\n<text text-anchor=\"start\" x=\"379\" y=\"-409.8\" font-family=\"Helvetica,sans-Serif\" font-size=\"14.00\" fill=\"#000000\">worst perimeter ≤ 114.45</text>\n<text text-anchor=\"start\" x=\"408\" y=\"-394.8\" font-family=\"Helvetica,sans-Serif\" font-size=\"14.00\" fill=\"#000000\">entropy = 0.513</text>\n<text text-anchor=\"start\" x=\"411\" y=\"-379.8\" font-family=\"Helvetica,sans-Serif\" font-size=\"14.00\" fill=\"#000000\">samples = 131</text>\n<text text-anchor=\"start\" x=\"405\" y=\"-364.8\" font-family=\"Helvetica,sans-Serif\" font-size=\"14.00\" fill=\"#000000\">value = [116, 15]</text>\n<text text-anchor=\"start\" x=\"402.5\" y=\"-349.8\" font-family=\"Helvetica,sans-Serif\" font-size=\"14.00\" fill=\"#000000\">class = malignant</text>\n</g>\n<!-- 0&#45;&gt;14 -->\n<g id=\"edge6\" class=\"edge\">\n<title>0&#45;&gt;14</title>\n<path fill=\"none\" stroke=\"#000000\" d=\"M401.1279,-460.8796C407.729,-452.0534 414.7629,-442.6485 421.5702,-433.5466\"/>\n<polygon fill=\"#000000\" stroke=\"#000000\" points=\"424.5528,-435.4024 427.7393,-425.2981 418.9472,-431.2099 424.5528,-435.4024\"/>\n<text text-anchor=\"middle\" x=\"431.3081\" y=\"-446.342\" font-family=\"Helvetica,sans-Serif\" font-size=\"14.00\" fill=\"#000000\">False</text>\n</g>\n<!-- 2 -->\n<g id=\"node3\" class=\"node\">\n<title>2</title>\n<path fill=\"#3b9ee5\" stroke=\"#000000\" d=\"M192.5,-306C192.5,-306 57.5,-306 57.5,-306 51.5,-306 45.5,-300 45.5,-294 45.5,-294 45.5,-235 45.5,-235 45.5,-229 51.5,-223 57.5,-223 57.5,-223 192.5,-223 192.5,-223 198.5,-223 204.5,-229 204.5,-235 204.5,-235 204.5,-294 204.5,-294 204.5,-300 198.5,-306 192.5,-306\"/>\n<text text-anchor=\"start\" x=\"53.5\" y=\"-290.8\" font-family=\"Helvetica,sans-Serif\" font-size=\"14.00\" fill=\"#000000\">worst texture ≤ 30.145</text>\n<text text-anchor=\"start\" x=\"74\" y=\"-275.8\" font-family=\"Helvetica,sans-Serif\" font-size=\"14.00\" fill=\"#000000\">entropy = 0.082</text>\n<text text-anchor=\"start\" x=\"77\" y=\"-260.8\" font-family=\"Helvetica,sans-Serif\" font-size=\"14.00\" fill=\"#000000\">samples = 195</text>\n<text text-anchor=\"start\" x=\"75\" y=\"-245.8\" font-family=\"Helvetica,sans-Serif\" font-size=\"14.00\" fill=\"#000000\">value = [2, 193]</text>\n<text text-anchor=\"start\" x=\"78\" y=\"-230.8\" font-family=\"Helvetica,sans-Serif\" font-size=\"14.00\" fill=\"#000000\">class = benign</text>\n</g>\n<!-- 1&#45;&gt;2 -->\n<g id=\"edge2\" class=\"edge\">\n<title>1&#45;&gt;2</title>\n<path fill=\"none\" stroke=\"#000000\" d=\"M226.4388,-341.8796C213.9698,-332.368 200.6198,-322.1843 187.8352,-312.432\"/>\n<polygon fill=\"#000000\" stroke=\"#000000\" points=\"189.604,-309.3792 179.5304,-306.0969 185.3585,-314.9448 189.604,-309.3792\"/>\n</g>\n<!-- 9 -->\n<g id=\"node6\" class=\"node\">\n<title>9</title>\n<path fill=\"#eeaf81\" stroke=\"#000000\" d=\"M339.5,-298.5C339.5,-298.5 234.5,-298.5 234.5,-298.5 228.5,-298.5 222.5,-292.5 222.5,-286.5 222.5,-286.5 222.5,-242.5 222.5,-242.5 222.5,-236.5 228.5,-230.5 234.5,-230.5 234.5,-230.5 339.5,-230.5 339.5,-230.5 345.5,-230.5 351.5,-236.5 351.5,-242.5 351.5,-242.5 351.5,-286.5 351.5,-286.5 351.5,-292.5 345.5,-298.5 339.5,-298.5\"/>\n<text text-anchor=\"start\" x=\"236\" y=\"-283.3\" font-family=\"Helvetica,sans-Serif\" font-size=\"14.00\" fill=\"#000000\">entropy = 0.837</text>\n<text text-anchor=\"start\" x=\"243\" y=\"-268.3\" font-family=\"Helvetica,sans-Serif\" font-size=\"14.00\" fill=\"#000000\">samples = 15</text>\n<text text-anchor=\"start\" x=\"241.5\" y=\"-253.3\" font-family=\"Helvetica,sans-Serif\" font-size=\"14.00\" fill=\"#000000\">value = [11, 4]</text>\n<text text-anchor=\"start\" x=\"230.5\" y=\"-238.3\" font-family=\"Helvetica,sans-Serif\" font-size=\"14.00\" fill=\"#000000\">class = malignant</text>\n</g>\n<!-- 1&#45;&gt;9 -->\n<g id=\"edge5\" class=\"edge\">\n<title>1&#45;&gt;9</title>\n<path fill=\"none\" stroke=\"#000000\" d=\"M283.0985,-341.8796C283.6363,-331.2134 284.2167,-319.7021 284.7613,-308.9015\"/>\n<polygon fill=\"#000000\" stroke=\"#000000\" points=\"288.2617,-308.9785 285.2698,-298.8149 281.2706,-308.626 288.2617,-308.9785\"/>\n</g>\n<!-- 3 -->\n<g id=\"node4\" class=\"node\">\n<title>3</title>\n<path fill=\"#399de5\" stroke=\"#000000\" d=\"M104,-179.5C104,-179.5 12,-179.5 12,-179.5 6,-179.5 0,-173.5 0,-167.5 0,-167.5 0,-123.5 0,-123.5 0,-117.5 6,-111.5 12,-111.5 12,-111.5 104,-111.5 104,-111.5 110,-111.5 116,-117.5 116,-123.5 116,-123.5 116,-167.5 116,-167.5 116,-173.5 110,-179.5 104,-179.5\"/>\n<text text-anchor=\"start\" x=\"15.5\" y=\"-164.3\" font-family=\"Helvetica,sans-Serif\" font-size=\"14.00\" fill=\"#000000\">entropy = 0.0</text>\n<text text-anchor=\"start\" x=\"10\" y=\"-149.3\" font-family=\"Helvetica,sans-Serif\" font-size=\"14.00\" fill=\"#000000\">samples = 169</text>\n<text text-anchor=\"start\" x=\"8\" y=\"-134.3\" font-family=\"Helvetica,sans-Serif\" font-size=\"14.00\" fill=\"#000000\">value = [0, 169]</text>\n<text text-anchor=\"start\" x=\"11\" y=\"-119.3\" font-family=\"Helvetica,sans-Serif\" font-size=\"14.00\" fill=\"#000000\">class = benign</text>\n</g>\n<!-- 2&#45;&gt;3 -->\n<g id=\"edge3\" class=\"edge\">\n<title>2&#45;&gt;3</title>\n<path fill=\"none\" stroke=\"#000000\" d=\"M101.5667,-222.8796C95.3137,-211.7735 88.5448,-199.7513 82.249,-188.5691\"/>\n<polygon fill=\"#000000\" stroke=\"#000000\" points=\"85.2761,-186.8116 77.3202,-179.8149 79.1765,-190.2459 85.2761,-186.8116\"/>\n</g>\n<!-- 4 -->\n<g id=\"node5\" class=\"node\">\n<title>4</title>\n<path fill=\"#49a5e7\" stroke=\"#000000\" d=\"M240,-179.5C240,-179.5 146,-179.5 146,-179.5 140,-179.5 134,-173.5 134,-167.5 134,-167.5 134,-123.5 134,-123.5 134,-117.5 140,-111.5 146,-111.5 146,-111.5 240,-111.5 240,-111.5 246,-111.5 252,-117.5 252,-123.5 252,-123.5 252,-167.5 252,-167.5 252,-173.5 246,-179.5 240,-179.5\"/>\n<text text-anchor=\"start\" x=\"142\" y=\"-164.3\" font-family=\"Helvetica,sans-Serif\" font-size=\"14.00\" fill=\"#000000\">entropy = 0.391</text>\n<text text-anchor=\"start\" x=\"149\" y=\"-149.3\" font-family=\"Helvetica,sans-Serif\" font-size=\"14.00\" fill=\"#000000\">samples = 26</text>\n<text text-anchor=\"start\" x=\"147.5\" y=\"-134.3\" font-family=\"Helvetica,sans-Serif\" font-size=\"14.00\" fill=\"#000000\">value = [2, 24]</text>\n<text text-anchor=\"start\" x=\"146\" y=\"-119.3\" font-family=\"Helvetica,sans-Serif\" font-size=\"14.00\" fill=\"#000000\">class = benign</text>\n</g>\n<!-- 2&#45;&gt;4 -->\n<g id=\"edge4\" class=\"edge\">\n<title>2&#45;&gt;4</title>\n<path fill=\"none\" stroke=\"#000000\" d=\"M148.7831,-222.8796C155.1294,-211.7735 161.9993,-199.7513 168.3891,-188.5691\"/>\n<polygon fill=\"#000000\" stroke=\"#000000\" points=\"171.4689,-190.2339 173.3915,-179.8149 165.3912,-186.7609 171.4689,-190.2339\"/>\n</g>\n<!-- 15 -->\n<g id=\"node8\" class=\"node\">\n<title>15</title>\n<path fill=\"#f7d7c0\" stroke=\"#000000\" d=\"M512.5,-306C512.5,-306 393.5,-306 393.5,-306 387.5,-306 381.5,-300 381.5,-294 381.5,-294 381.5,-235 381.5,-235 381.5,-229 387.5,-223 393.5,-223 393.5,-223 512.5,-223 512.5,-223 518.5,-223 524.5,-229 524.5,-235 524.5,-235 524.5,-294 524.5,-294 524.5,-300 518.5,-306 512.5,-306\"/>\n<text text-anchor=\"start\" x=\"389.5\" y=\"-290.8\" font-family=\"Helvetica,sans-Serif\" font-size=\"14.00\" fill=\"#000000\">worst texture ≤ 26.9</text>\n<text text-anchor=\"start\" x=\"402\" y=\"-275.8\" font-family=\"Helvetica,sans-Serif\" font-size=\"14.00\" fill=\"#000000\">entropy = 0.974</text>\n<text text-anchor=\"start\" x=\"409\" y=\"-260.8\" font-family=\"Helvetica,sans-Serif\" font-size=\"14.00\" fill=\"#000000\">samples = 37</text>\n<text text-anchor=\"start\" x=\"403\" y=\"-245.8\" font-family=\"Helvetica,sans-Serif\" font-size=\"14.00\" fill=\"#000000\">value = [22, 15]</text>\n<text text-anchor=\"start\" x=\"396.5\" y=\"-230.8\" font-family=\"Helvetica,sans-Serif\" font-size=\"14.00\" fill=\"#000000\">class = malignant</text>\n</g>\n<!-- 14&#45;&gt;15 -->\n<g id=\"edge7\" class=\"edge\">\n<title>14&#45;&gt;15</title>\n<path fill=\"none\" stroke=\"#000000\" d=\"M456.9015,-341.8796C456.4883,-333.6838 456.0499,-324.9891 455.6219,-316.5013\"/>\n<polygon fill=\"#000000\" stroke=\"#000000\" points=\"459.1067,-316.1091 455.1075,-306.2981 452.1156,-316.4617 459.1067,-316.1091\"/>\n</g>\n<!-- 24 -->\n<g id=\"node13\" class=\"node\">\n<title>24</title>\n<path fill=\"#e58139\" stroke=\"#000000\" d=\"M659.5,-298.5C659.5,-298.5 554.5,-298.5 554.5,-298.5 548.5,-298.5 542.5,-292.5 542.5,-286.5 542.5,-286.5 542.5,-242.5 542.5,-242.5 542.5,-236.5 548.5,-230.5 554.5,-230.5 554.5,-230.5 659.5,-230.5 659.5,-230.5 665.5,-230.5 671.5,-236.5 671.5,-242.5 671.5,-242.5 671.5,-286.5 671.5,-286.5 671.5,-292.5 665.5,-298.5 659.5,-298.5\"/>\n<text text-anchor=\"start\" x=\"564.5\" y=\"-283.3\" font-family=\"Helvetica,sans-Serif\" font-size=\"14.00\" fill=\"#000000\">entropy = 0.0</text>\n<text text-anchor=\"start\" x=\"563\" y=\"-268.3\" font-family=\"Helvetica,sans-Serif\" font-size=\"14.00\" fill=\"#000000\">samples = 94</text>\n<text text-anchor=\"start\" x=\"561.5\" y=\"-253.3\" font-family=\"Helvetica,sans-Serif\" font-size=\"14.00\" fill=\"#000000\">value = [94, 0]</text>\n<text text-anchor=\"start\" x=\"550.5\" y=\"-238.3\" font-family=\"Helvetica,sans-Serif\" font-size=\"14.00\" fill=\"#000000\">class = malignant</text>\n</g>\n<!-- 14&#45;&gt;24 -->\n<g id=\"edge12\" class=\"edge\">\n<title>14&#45;&gt;24</title>\n<path fill=\"none\" stroke=\"#000000\" d=\"M510.7632,-341.8796C525.5331,-330.0038 541.6059,-317.0804 556.3108,-305.2568\"/>\n<polygon fill=\"#000000\" stroke=\"#000000\" points=\"558.7225,-307.8088 564.3226,-298.8149 554.3361,-302.3535 558.7225,-307.8088\"/>\n</g>\n<!-- 16 -->\n<g id=\"node9\" class=\"node\">\n<title>16</title>\n<path fill=\"#95cbf1\" stroke=\"#000000\" d=\"M497.5,-187C497.5,-187 316.5,-187 316.5,-187 310.5,-187 304.5,-181 304.5,-175 304.5,-175 304.5,-116 304.5,-116 304.5,-110 310.5,-104 316.5,-104 316.5,-104 497.5,-104 497.5,-104 503.5,-104 509.5,-110 509.5,-116 509.5,-116 509.5,-175 509.5,-175 509.5,-181 503.5,-187 497.5,-187\"/>\n<text text-anchor=\"start\" x=\"312.5\" y=\"-171.8\" font-family=\"Helvetica,sans-Serif\" font-size=\"14.00\" fill=\"#000000\">worst concave points ≤ 0.181</text>\n<text text-anchor=\"start\" x=\"356\" y=\"-156.8\" font-family=\"Helvetica,sans-Serif\" font-size=\"14.00\" fill=\"#000000\">entropy = 0.902</text>\n<text text-anchor=\"start\" x=\"363\" y=\"-141.8\" font-family=\"Helvetica,sans-Serif\" font-size=\"14.00\" fill=\"#000000\">samples = 22</text>\n<text text-anchor=\"start\" x=\"361.5\" y=\"-126.8\" font-family=\"Helvetica,sans-Serif\" font-size=\"14.00\" fill=\"#000000\">value = [7, 15]</text>\n<text text-anchor=\"start\" x=\"360\" y=\"-111.8\" font-family=\"Helvetica,sans-Serif\" font-size=\"14.00\" fill=\"#000000\">class = benign</text>\n</g>\n<!-- 15&#45;&gt;16 -->\n<g id=\"edge8\" class=\"edge\">\n<title>15&#45;&gt;16</title>\n<path fill=\"none\" stroke=\"#000000\" d=\"M436.9114,-222.8796C433.6389,-214.4136 430.1605,-205.4153 426.7771,-196.6626\"/>\n<polygon fill=\"#000000\" stroke=\"#000000\" points=\"430.0274,-195.3635 423.1572,-187.2981 423.4983,-197.8874 430.0274,-195.3635\"/>\n</g>\n<!-- 23 -->\n<g id=\"node12\" class=\"node\">\n<title>23</title>\n<path fill=\"#e58139\" stroke=\"#000000\" d=\"M644.5,-179.5C644.5,-179.5 539.5,-179.5 539.5,-179.5 533.5,-179.5 527.5,-173.5 527.5,-167.5 527.5,-167.5 527.5,-123.5 527.5,-123.5 527.5,-117.5 533.5,-111.5 539.5,-111.5 539.5,-111.5 644.5,-111.5 644.5,-111.5 650.5,-111.5 656.5,-117.5 656.5,-123.5 656.5,-123.5 656.5,-167.5 656.5,-167.5 656.5,-173.5 650.5,-179.5 644.5,-179.5\"/>\n<text text-anchor=\"start\" x=\"549.5\" y=\"-164.3\" font-family=\"Helvetica,sans-Serif\" font-size=\"14.00\" fill=\"#000000\">entropy = 0.0</text>\n<text text-anchor=\"start\" x=\"548\" y=\"-149.3\" font-family=\"Helvetica,sans-Serif\" font-size=\"14.00\" fill=\"#000000\">samples = 15</text>\n<text text-anchor=\"start\" x=\"546.5\" y=\"-134.3\" font-family=\"Helvetica,sans-Serif\" font-size=\"14.00\" fill=\"#000000\">value = [15, 0]</text>\n<text text-anchor=\"start\" x=\"535.5\" y=\"-119.3\" font-family=\"Helvetica,sans-Serif\" font-size=\"14.00\" fill=\"#000000\">class = malignant</text>\n</g>\n<!-- 15&#45;&gt;23 -->\n<g id=\"edge11\" class=\"edge\">\n<title>15&#45;&gt;23</title>\n<path fill=\"none\" stroke=\"#000000\" d=\"M501.6155,-222.8796C515.3587,-211.1138 530.3031,-198.3197 544.0093,-186.5855\"/>\n<polygon fill=\"#000000\" stroke=\"#000000\" points=\"546.5976,-188.9771 551.9178,-179.8149 542.0452,-183.6596 546.5976,-188.9771\"/>\n</g>\n<!-- 17 -->\n<g id=\"node10\" class=\"node\">\n<title>17</title>\n<path fill=\"#61b1ea\" stroke=\"#000000\" d=\"M381,-68C381,-68 295,-68 295,-68 289,-68 283,-62 283,-56 283,-56 283,-12 283,-12 283,-6 289,0 295,0 295,0 381,0 381,0 387,0 393,-6 393,-12 393,-12 393,-56 393,-56 393,-62 387,-68 381,-68\"/>\n<text text-anchor=\"start\" x=\"291\" y=\"-52.8\" font-family=\"Helvetica,sans-Serif\" font-size=\"14.00\" fill=\"#000000\">entropy = 0.65</text>\n<text text-anchor=\"start\" x=\"294\" y=\"-37.8\" font-family=\"Helvetica,sans-Serif\" font-size=\"14.00\" fill=\"#000000\">samples = 18</text>\n<text text-anchor=\"start\" x=\"292.5\" y=\"-22.8\" font-family=\"Helvetica,sans-Serif\" font-size=\"14.00\" fill=\"#000000\">value = [3, 15]</text>\n<text text-anchor=\"start\" x=\"291\" y=\"-7.8\" font-family=\"Helvetica,sans-Serif\" font-size=\"14.00\" fill=\"#000000\">class = benign</text>\n</g>\n<!-- 16&#45;&gt;17 -->\n<g id=\"edge9\" class=\"edge\">\n<title>16&#45;&gt;17</title>\n<path fill=\"none\" stroke=\"#000000\" d=\"M381.3069,-103.9815C375.8469,-95.1585 370.0716,-85.8258 364.5793,-76.9506\"/>\n<polygon fill=\"#000000\" stroke=\"#000000\" points=\"367.442,-74.9254 359.2035,-68.2637 361.4896,-78.609 367.442,-74.9254\"/>\n</g>\n<!-- 22 -->\n<g id=\"node11\" class=\"node\">\n<title>22</title>\n<path fill=\"#e58139\" stroke=\"#000000\" d=\"M528.5,-68C528.5,-68 423.5,-68 423.5,-68 417.5,-68 411.5,-62 411.5,-56 411.5,-56 411.5,-12 411.5,-12 411.5,-6 417.5,0 423.5,0 423.5,0 528.5,0 528.5,0 534.5,0 540.5,-6 540.5,-12 540.5,-12 540.5,-56 540.5,-56 540.5,-62 534.5,-68 528.5,-68\"/>\n<text text-anchor=\"start\" x=\"433.5\" y=\"-52.8\" font-family=\"Helvetica,sans-Serif\" font-size=\"14.00\" fill=\"#000000\">entropy = 0.0</text>\n<text text-anchor=\"start\" x=\"436.5\" y=\"-37.8\" font-family=\"Helvetica,sans-Serif\" font-size=\"14.00\" fill=\"#000000\">samples = 4</text>\n<text text-anchor=\"start\" x=\"434.5\" y=\"-22.8\" font-family=\"Helvetica,sans-Serif\" font-size=\"14.00\" fill=\"#000000\">value = [4, 0]</text>\n<text text-anchor=\"start\" x=\"419.5\" y=\"-7.8\" font-family=\"Helvetica,sans-Serif\" font-size=\"14.00\" fill=\"#000000\">class = malignant</text>\n</g>\n<!-- 16&#45;&gt;22 -->\n<g id=\"edge10\" class=\"edge\">\n<title>16&#45;&gt;22</title>\n<path fill=\"none\" stroke=\"#000000\" d=\"M432.6931,-103.9815C438.1531,-95.1585 443.9284,-85.8258 449.4207,-76.9506\"/>\n<polygon fill=\"#000000\" stroke=\"#000000\" points=\"452.5104,-78.609 454.7965,-68.2637 446.558,-74.9254 452.5104,-78.609\"/>\n</g>\n</g>\n</svg>\n"
          },
          "metadata": {},
          "execution_count": 58
        }
      ]
    },
    {
      "cell_type": "code",
      "source": [
        "# Chequeamos si el árbol esta sobreentrenado evaluandolo con algunos datos del conjunto de entrenamiento\n",
        "\n",
        "target_predicted = pruned_tree_model.predict(data_test)\n",
        "\n",
        "test_accuracy = accuracy_score(target_test, target_predicted)\n",
        "\n",
        "print(\"El valor de accuracy obtenido en el conjunto de evaluacion es: {}\".format(test_accuracy))\n",
        "\n",
        "target_predicted = pruned_tree_model.predict(data_train)\n",
        "\n",
        "train_accuracy = accuracy_score(target_train, target_predicted)\n",
        "\n",
        "print(\"El valor de accuracy obtenido en el conjunto de entrenamiento es: {}\".format(train_accuracy))"
      ],
      "metadata": {
        "colab": {
          "base_uri": "https://localhost:8080/"
        },
        "id": "IsrWKWDwFQXs",
        "outputId": "d888da31-7af8-4a11-d15c-6a822b51ca58"
      },
      "execution_count": 57,
      "outputs": [
        {
          "output_type": "stream",
          "name": "stdout",
          "text": [
            "El valor de accuracy obtenido en el conjunto de evaluacion es: 0.8903508771929824\n",
            "El valor de accuracy obtenido en el conjunto de entrenamiento es: 0.9178885630498533\n"
          ]
        }
      ]
    },
    {
      "cell_type": "markdown",
      "source": [
        ""
      ],
      "metadata": {
        "id": "ed9HtKFACNZN"
      }
    }
  ]
}